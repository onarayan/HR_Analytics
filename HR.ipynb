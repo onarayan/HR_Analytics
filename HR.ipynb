{
 "cells": [
  {
   "cell_type": "markdown",
   "metadata": {},
   "source": [
    "### HR Analytics - how likely is it that an employee will leave\n"
   ]
  },
  {
   "cell_type": "code",
   "execution_count": 131,
   "metadata": {},
   "outputs": [],
   "source": [
    "# loading data sets\n",
    "import pandas as pd\n",
    "import numpy as np\n",
    "import matplotlib.pyplot as plt\n",
    "import seaborn as sns\n",
    "\n",
    "train = pd.read_csv('C:/Users/omjee/Documents/Data Science/Vidhya Analytics/Janata Hack_HR Analytics/train_jqd04QH.csv')\n",
    "test = pd.read_csv('C:/Users/omjee/Documents/Data Science/Vidhya Analytics/Janata Hack_HR Analytics/test_KaymcHn.csv')"
   ]
  },
  {
   "cell_type": "code",
   "execution_count": 132,
   "metadata": {},
   "outputs": [
    {
     "data": {
      "text/html": [
       "<div>\n",
       "<style scoped>\n",
       "    .dataframe tbody tr th:only-of-type {\n",
       "        vertical-align: middle;\n",
       "    }\n",
       "\n",
       "    .dataframe tbody tr th {\n",
       "        vertical-align: top;\n",
       "    }\n",
       "\n",
       "    .dataframe thead th {\n",
       "        text-align: right;\n",
       "    }\n",
       "</style>\n",
       "<table border=\"1\" class=\"dataframe\">\n",
       "  <thead>\n",
       "    <tr style=\"text-align: right;\">\n",
       "      <th></th>\n",
       "      <th>enrollee_id</th>\n",
       "      <th>city</th>\n",
       "      <th>city_development_index</th>\n",
       "      <th>gender</th>\n",
       "      <th>relevent_experience</th>\n",
       "      <th>enrolled_university</th>\n",
       "      <th>education_level</th>\n",
       "      <th>major_discipline</th>\n",
       "      <th>experience</th>\n",
       "      <th>company_size</th>\n",
       "      <th>company_type</th>\n",
       "      <th>last_new_job</th>\n",
       "      <th>training_hours</th>\n",
       "      <th>target</th>\n",
       "    </tr>\n",
       "  </thead>\n",
       "  <tbody>\n",
       "    <tr>\n",
       "      <th>0</th>\n",
       "      <td>23798</td>\n",
       "      <td>city_149</td>\n",
       "      <td>0.689</td>\n",
       "      <td>Male</td>\n",
       "      <td>Has relevent experience</td>\n",
       "      <td>no_enrollment</td>\n",
       "      <td>Graduate</td>\n",
       "      <td>STEM</td>\n",
       "      <td>3</td>\n",
       "      <td>100-500</td>\n",
       "      <td>Pvt Ltd</td>\n",
       "      <td>1</td>\n",
       "      <td>106</td>\n",
       "      <td>0.0</td>\n",
       "    </tr>\n",
       "    <tr>\n",
       "      <th>1</th>\n",
       "      <td>29166</td>\n",
       "      <td>city_83</td>\n",
       "      <td>0.923</td>\n",
       "      <td>Male</td>\n",
       "      <td>Has relevent experience</td>\n",
       "      <td>no_enrollment</td>\n",
       "      <td>Graduate</td>\n",
       "      <td>STEM</td>\n",
       "      <td>14</td>\n",
       "      <td>&lt;10</td>\n",
       "      <td>Funded Startup</td>\n",
       "      <td>1</td>\n",
       "      <td>69</td>\n",
       "      <td>0.0</td>\n",
       "    </tr>\n",
       "    <tr>\n",
       "      <th>2</th>\n",
       "      <td>46</td>\n",
       "      <td>city_16</td>\n",
       "      <td>0.910</td>\n",
       "      <td>NaN</td>\n",
       "      <td>Has relevent experience</td>\n",
       "      <td>no_enrollment</td>\n",
       "      <td>Graduate</td>\n",
       "      <td>STEM</td>\n",
       "      <td>6</td>\n",
       "      <td>50-99</td>\n",
       "      <td>Public Sector</td>\n",
       "      <td>2</td>\n",
       "      <td>4</td>\n",
       "      <td>0.0</td>\n",
       "    </tr>\n",
       "    <tr>\n",
       "      <th>3</th>\n",
       "      <td>18527</td>\n",
       "      <td>city_64</td>\n",
       "      <td>0.666</td>\n",
       "      <td>Male</td>\n",
       "      <td>Has relevent experience</td>\n",
       "      <td>no_enrollment</td>\n",
       "      <td>Graduate</td>\n",
       "      <td>STEM</td>\n",
       "      <td>14</td>\n",
       "      <td>50-99</td>\n",
       "      <td>Pvt Ltd</td>\n",
       "      <td>1</td>\n",
       "      <td>26</td>\n",
       "      <td>0.0</td>\n",
       "    </tr>\n",
       "    <tr>\n",
       "      <th>4</th>\n",
       "      <td>21751</td>\n",
       "      <td>city_100</td>\n",
       "      <td>0.887</td>\n",
       "      <td>NaN</td>\n",
       "      <td>No relevent experience</td>\n",
       "      <td>no_enrollment</td>\n",
       "      <td>Masters</td>\n",
       "      <td>STEM</td>\n",
       "      <td>8</td>\n",
       "      <td>NaN</td>\n",
       "      <td>NaN</td>\n",
       "      <td>2</td>\n",
       "      <td>88</td>\n",
       "      <td>1.0</td>\n",
       "    </tr>\n",
       "  </tbody>\n",
       "</table>\n",
       "</div>"
      ],
      "text/plain": [
       "   enrollee_id      city  city_development_index gender  \\\n",
       "0        23798  city_149                   0.689   Male   \n",
       "1        29166   city_83                   0.923   Male   \n",
       "2           46   city_16                   0.910    NaN   \n",
       "3        18527   city_64                   0.666   Male   \n",
       "4        21751  city_100                   0.887    NaN   \n",
       "\n",
       "       relevent_experience enrolled_university education_level  \\\n",
       "0  Has relevent experience       no_enrollment        Graduate   \n",
       "1  Has relevent experience       no_enrollment        Graduate   \n",
       "2  Has relevent experience       no_enrollment        Graduate   \n",
       "3  Has relevent experience       no_enrollment        Graduate   \n",
       "4   No relevent experience       no_enrollment         Masters   \n",
       "\n",
       "  major_discipline experience company_size    company_type last_new_job  \\\n",
       "0             STEM          3      100-500         Pvt Ltd            1   \n",
       "1             STEM         14          <10  Funded Startup            1   \n",
       "2             STEM          6        50-99   Public Sector            2   \n",
       "3             STEM         14        50-99         Pvt Ltd            1   \n",
       "4             STEM          8          NaN             NaN            2   \n",
       "\n",
       "   training_hours  target  \n",
       "0             106     0.0  \n",
       "1              69     0.0  \n",
       "2               4     0.0  \n",
       "3              26     0.0  \n",
       "4              88     1.0  "
      ]
     },
     "execution_count": 132,
     "metadata": {},
     "output_type": "execute_result"
    }
   ],
   "source": [
    "# combine train and test \n",
    "whole = train.append(test)\n",
    "whole.head()"
   ]
  },
  {
   "cell_type": "code",
   "execution_count": 133,
   "metadata": {},
   "outputs": [
    {
     "name": "stdout",
     "output_type": "stream",
     "text": [
      "<class 'pandas.core.frame.DataFrame'>\n",
      "Int64Index: 33380 entries, 0 to 15020\n",
      "Data columns (total 14 columns):\n",
      " #   Column                  Non-Null Count  Dtype  \n",
      "---  ------                  --------------  -----  \n",
      " 0   enrollee_id             33380 non-null  int64  \n",
      " 1   city                    33380 non-null  object \n",
      " 2   city_development_index  33380 non-null  float64\n",
      " 3   gender                  25894 non-null  object \n",
      " 4   relevent_experience     33380 non-null  object \n",
      " 5   enrolled_university     32759 non-null  object \n",
      " 6   education_level         32528 non-null  object \n",
      " 7   major_discipline        28149 non-null  object \n",
      " 8   experience              33277 non-null  object \n",
      " 9   company_size            24550 non-null  object \n",
      " 10  company_type            24011 non-null  object \n",
      " 11  last_new_job            32709 non-null  object \n",
      " 12  training_hours          33380 non-null  int64  \n",
      " 13  target                  18359 non-null  float64\n",
      "dtypes: float64(2), int64(2), object(10)\n",
      "memory usage: 3.8+ MB\n"
     ]
    }
   ],
   "source": [
    "whole.info()"
   ]
  },
  {
   "cell_type": "code",
   "execution_count": 134,
   "metadata": {},
   "outputs": [
    {
     "data": {
      "text/plain": [
       "enrollee_id                   0\n",
       "city                          0\n",
       "city_development_index        0\n",
       "gender                     7486\n",
       "relevent_experience           0\n",
       "enrolled_university         621\n",
       "education_level             852\n",
       "major_discipline           5231\n",
       "experience                  103\n",
       "company_size               8830\n",
       "company_type               9369\n",
       "last_new_job                671\n",
       "training_hours                0\n",
       "target                    15021\n",
       "dtype: int64"
      ]
     },
     "execution_count": 134,
     "metadata": {},
     "output_type": "execute_result"
    }
   ],
   "source": [
    "# Proportion of data missing in each column\n",
    "whole.isnull().sum()"
   ]
  },
  {
   "cell_type": "markdown",
   "metadata": {},
   "source": [
    "### Data cleaning, handling of missing value, data analysis "
   ]
  },
  {
   "cell_type": "code",
   "execution_count": 135,
   "metadata": {},
   "outputs": [
    {
     "data": {
      "text/plain": [
       "count    33380.000000\n",
       "mean        65.565638\n",
       "std         60.363572\n",
       "min          1.000000\n",
       "25%         23.000000\n",
       "50%         47.000000\n",
       "75%         89.000000\n",
       "max        336.000000\n",
       "Name: training_hours, dtype: float64"
      ]
     },
     "execution_count": 135,
     "metadata": {},
     "output_type": "execute_result"
    }
   ],
   "source": [
    "whole['training_hours'].describe()"
   ]
  },
  {
   "cell_type": "code",
   "execution_count": 136,
   "metadata": {},
   "outputs": [
    {
     "data": {
      "text/plain": [
       "count    33380.000000\n",
       "mean         3.759840\n",
       "std          0.995878\n",
       "min          0.000000\n",
       "25%          3.135494\n",
       "50%          3.850148\n",
       "75%          4.488636\n",
       "max          5.817111\n",
       "Name: training_hours, dtype: float64"
      ]
     },
     "execution_count": 136,
     "metadata": {},
     "output_type": "execute_result"
    }
   ],
   "source": [
    "# log Transformation of column 'training hours'\n",
    "whole['training_hours'] = np.log(whole['training_hours'])\n",
    "whole['training_hours'].describe()"
   ]
  },
  {
   "cell_type": "code",
   "execution_count": 137,
   "metadata": {},
   "outputs": [
    {
     "data": {
      "text/plain": [
       "1        13813\n",
       ">4        6023\n",
       "2         5133\n",
       "never     3943\n",
       "3         1922\n",
       "4         1875\n",
       "Name: last_new_job, dtype: int64"
      ]
     },
     "execution_count": 137,
     "metadata": {},
     "output_type": "execute_result"
    }
   ],
   "source": [
    "whole['last_new_job'].value_counts()"
   ]
  },
  {
   "cell_type": "code",
   "execution_count": 138,
   "metadata": {},
   "outputs": [
    {
     "data": {
      "text/plain": [
       "1     13813\n",
       "5      6023\n",
       "2      5133\n",
       "0      3943\n",
       "3      1922\n",
       "4      1875\n",
       "-1      671\n",
       "Name: last_new_job, dtype: int64"
      ]
     },
     "execution_count": 138,
     "metadata": {},
     "output_type": "execute_result"
    }
   ],
   "source": [
    "whole['last_new_job'].fillna(value='-1', inplace=True)        # filling missing values\n",
    "whole['last_new_job'] = whole['last_new_job'].replace('never', '0')\n",
    "whole['last_new_job'] = whole['last_new_job'].replace('>4', '5')\n",
    "whole['last_new_job'].value_counts()"
   ]
  },
  {
   "cell_type": "code",
   "execution_count": 139,
   "metadata": {},
   "outputs": [
    {
     "data": {
      "text/plain": [
       "Pvt Ltd                18114\n",
       "Funded Startup          1880\n",
       "Public Sector           1792\n",
       "Early Stage Startup     1029\n",
       "NGO                      973\n",
       "Other                    223\n",
       "Name: company_type, dtype: int64"
      ]
     },
     "execution_count": 139,
     "metadata": {},
     "output_type": "execute_result"
    }
   ],
   "source": [
    "whole['company_type'].value_counts()"
   ]
  },
  {
   "cell_type": "code",
   "execution_count": 140,
   "metadata": {},
   "outputs": [
    {
     "data": {
      "text/plain": [
       "Pvt Ltd                18114\n",
       "unknown                 9369\n",
       "Funded Startup          1880\n",
       "Public Sector           1792\n",
       "Early Stage Startup     1029\n",
       "NGO                      973\n",
       "Other                    223\n",
       "Name: company_type, dtype: int64"
      ]
     },
     "execution_count": 140,
     "metadata": {},
     "output_type": "execute_result"
    }
   ],
   "source": [
    "whole['company_type'].fillna(value='unknown', inplace=True)      # filling missing values\n",
    "whole['company_type'].value_counts()"
   ]
  },
  {
   "cell_type": "code",
   "execution_count": 141,
   "metadata": {},
   "outputs": [
    {
     "data": {
      "text/plain": [
       "50-99        5697\n",
       "100-500      4845\n",
       "10000+       3666\n",
       "10/49        2664\n",
       "1000-4999    2513\n",
       "<10          2464\n",
       "500-999      1639\n",
       "5000-9999    1062\n",
       "Name: company_size, dtype: int64"
      ]
     },
     "execution_count": 141,
     "metadata": {},
     "output_type": "execute_result"
    }
   ],
   "source": [
    "whole['company_size'].value_counts()"
   ]
  },
  {
   "cell_type": "code",
   "execution_count": 142,
   "metadata": {},
   "outputs": [
    {
     "data": {
      "text/plain": [
       "unknown      8830\n",
       "50-99        5697\n",
       "100-500      4845\n",
       "10000+       3666\n",
       "10-49        2664\n",
       "1000-4999    2513\n",
       "<10          2464\n",
       "500-999      1639\n",
       "5000-9999    1062\n",
       "Name: company_size, dtype: int64"
      ]
     },
     "execution_count": 142,
     "metadata": {},
     "output_type": "execute_result"
    }
   ],
   "source": [
    "whole['company_size'].fillna(value='unknown', inplace=True)        # filling missing values\n",
    "whole['company_size'] = whole['company_size'].replace('10/49', '10-49')    # replacing\n",
    "whole['company_size'].value_counts()"
   ]
  },
  {
   "cell_type": "code",
   "execution_count": 143,
   "metadata": {},
   "outputs": [
    {
     "data": {
      "text/plain": [
       ">20    6150\n",
       "5      2400\n",
       "4      2240\n",
       "3      2166\n",
       "6      2039\n",
       "7      1779\n",
       "2      1756\n",
       "10     1753\n",
       "9      1722\n",
       "8      1423\n",
       "15     1244\n",
       "11     1190\n",
       "14     1080\n",
       "16      964\n",
       "12      905\n",
       "1       818\n",
       "<1      782\n",
       "13      763\n",
       "17      659\n",
       "19      590\n",
       "18      533\n",
       "20      321\n",
       "-1      103\n",
       "Name: experience, dtype: int64"
      ]
     },
     "execution_count": 143,
     "metadata": {},
     "output_type": "execute_result"
    }
   ],
   "source": [
    "whole['experience'].fillna(value='-1', inplace=True)          # filling missing values\n",
    "whole['experience'].value_counts()\n",
    "#whole.groupby('experience').count()"
   ]
  },
  {
   "cell_type": "code",
   "execution_count": 144,
   "metadata": {},
   "outputs": [],
   "source": [
    "whole['experience'] = whole['experience'].replace('<1', '0')\n",
    "whole['experience'] = whole['experience'].replace('>20', '21')\n",
    "whole['experience'] = whole['experience'].astype('int32')"
   ]
  },
  {
   "cell_type": "code",
   "execution_count": 145,
   "metadata": {},
   "outputs": [
    {
     "data": {
      "text/plain": [
       " 21    6150\n",
       " 5     2400\n",
       " 4     2240\n",
       " 3     2166\n",
       " 6     2039\n",
       " 7     1779\n",
       " 2     1756\n",
       " 10    1753\n",
       " 9     1722\n",
       " 8     1423\n",
       " 15    1244\n",
       " 11    1190\n",
       " 14    1080\n",
       " 16     964\n",
       " 12     905\n",
       " 1      818\n",
       " 0      782\n",
       " 13     763\n",
       " 17     659\n",
       " 19     590\n",
       " 18     533\n",
       " 20     321\n",
       "-1      103\n",
       "Name: experience, dtype: int64"
      ]
     },
     "execution_count": 145,
     "metadata": {},
     "output_type": "execute_result"
    }
   ],
   "source": [
    "#whole['experience'].value_counts().index\n",
    "whole['experience'].value_counts()"
   ]
  },
  {
   "cell_type": "markdown",
   "metadata": {},
   "source": [
    "#### Sorting values into bins"
   ]
  },
  {
   "cell_type": "code",
   "execution_count": 146,
   "metadata": {},
   "outputs": [
    {
     "data": {
      "text/plain": [
       "exp_level2    6806\n",
       "exp_level3    5241\n",
       "exp_level4    4665\n",
       "exp_level1    3356\n",
       "exp_level6    2867\n",
       "exp_level5    2748\n",
       "exp_level7    1444\n",
       "unknown        103\n",
       "Name: experience, dtype: int64"
      ]
     },
     "execution_count": 146,
     "metadata": {},
     "output_type": "execute_result"
    }
   ],
   "source": [
    "bins = [-1, 0, 3, 6, 9, 12, 15, 18, 21]\n",
    "labels = ['unknown', 'exp_level1', 'exp_level2', 'exp_level3', 'exp_level4', 'exp_level5', 'exp_level6', 'exp_level7']\n",
    "whole['experience'] = pd.cut(whole['experience'], bins=bins, labels=labels, right=False)\n",
    "whole['experience'].value_counts()"
   ]
  },
  {
   "cell_type": "code",
   "execution_count": 147,
   "metadata": {},
   "outputs": [
    {
     "data": {
      "text/plain": [
       "STEM               24855\n",
       "unknown             5231\n",
       "Humanities          1212\n",
       "Other                678\n",
       "Business Degree      585\n",
       "Arts                 432\n",
       "No Major             387\n",
       "Name: major_discipline, dtype: int64"
      ]
     },
     "execution_count": 147,
     "metadata": {},
     "output_type": "execute_result"
    }
   ],
   "source": [
    "whole['major_discipline'].fillna('unknown', inplace=True)     # filling missing values\n",
    "whole['major_discipline'].value_counts()"
   ]
  },
  {
   "cell_type": "code",
   "execution_count": 148,
   "metadata": {},
   "outputs": [],
   "source": [
    "whole['education_level'].fillna(value='unknown', inplace=True)      # filling missing values\n",
    "#whole['education_level'].value_counts()"
   ]
  },
  {
   "cell_type": "code",
   "execution_count": 149,
   "metadata": {},
   "outputs": [
    {
     "data": {
      "text/plain": [
       "city_103    7852\n",
       "city_21     3022\n",
       "city_16     2928\n",
       "city_114    2706\n",
       "city_160    1531\n",
       "city_136    1088\n",
       "city_67      821\n",
       "city_75      598\n",
       "city_102     573\n",
       "city_104     555\n",
       "Name: city, dtype: int64"
      ]
     },
     "execution_count": 149,
     "metadata": {},
     "output_type": "execute_result"
    }
   ],
   "source": [
    "whole['city'].value_counts().head(10)"
   ]
  },
  {
   "cell_type": "code",
   "execution_count": 150,
   "metadata": {},
   "outputs": [
    {
     "data": {
      "text/plain": [
       "count    33380.000000\n",
       "mean         0.846934\n",
       "std          0.109972\n",
       "min          0.448000\n",
       "25%          0.794000\n",
       "50%          0.910000\n",
       "75%          0.920000\n",
       "max          0.949000\n",
       "Name: city_development_index, dtype: float64"
      ]
     },
     "execution_count": 150,
     "metadata": {},
     "output_type": "execute_result"
    }
   ],
   "source": [
    "whole['city_development_index'].describe()"
   ]
  },
  {
   "cell_type": "code",
   "execution_count": 151,
   "metadata": {},
   "outputs": [
    {
     "data": {
      "text/plain": [
       "Male       23462\n",
       "unknown     7486\n",
       "Female      2085\n",
       "Other        347\n",
       "Name: gender, dtype: int64"
      ]
     },
     "execution_count": 151,
     "metadata": {},
     "output_type": "execute_result"
    }
   ],
   "source": [
    "whole['gender'].fillna(value='unknown', inplace=True)         # filling missing values\n",
    "whole['gender'].value_counts()"
   ]
  },
  {
   "cell_type": "code",
   "execution_count": 152,
   "metadata": {},
   "outputs": [
    {
     "name": "stdout",
     "output_type": "stream",
     "text": [
      "1    24698\n",
      "0     8682\n",
      "Name: relevent_experience, dtype: int64\n"
     ]
    }
   ],
   "source": [
    "whole['relevent_experience'] = whole['relevent_experience'].replace('Has relevent experience', '1')\n",
    "whole['relevent_experience'] = whole['relevent_experience'].replace('No relevent experience', '0')\n",
    "print(whole['relevent_experience'].value_counts())"
   ]
  },
  {
   "cell_type": "code",
   "execution_count": 153,
   "metadata": {},
   "outputs": [
    {
     "data": {
      "text/plain": [
       "no_enrollment       24887\n",
       "Full time course     5752\n",
       "Part time course     2120\n",
       "unknown               621\n",
       "Name: enrolled_university, dtype: int64"
      ]
     },
     "execution_count": 153,
     "metadata": {},
     "output_type": "execute_result"
    }
   ],
   "source": [
    "whole['enrolled_university'].fillna(value='unknown', inplace=True)       # filling missing values\n",
    "whole['enrolled_university'].value_counts()"
   ]
  },
  {
   "cell_type": "code",
   "execution_count": 155,
   "metadata": {},
   "outputs": [
    {
     "data": {
      "text/html": [
       "<div>\n",
       "<style scoped>\n",
       "    .dataframe tbody tr th:only-of-type {\n",
       "        vertical-align: middle;\n",
       "    }\n",
       "\n",
       "    .dataframe tbody tr th {\n",
       "        vertical-align: top;\n",
       "    }\n",
       "\n",
       "    .dataframe thead th {\n",
       "        text-align: right;\n",
       "    }\n",
       "</style>\n",
       "<table border=\"1\" class=\"dataframe\">\n",
       "  <thead>\n",
       "    <tr style=\"text-align: right;\">\n",
       "      <th></th>\n",
       "      <th>enrollee_id</th>\n",
       "      <th>city</th>\n",
       "      <th>city_development_index</th>\n",
       "      <th>gender</th>\n",
       "      <th>relevent_experience</th>\n",
       "      <th>enrolled_university</th>\n",
       "      <th>education_level</th>\n",
       "      <th>major_discipline</th>\n",
       "      <th>experience</th>\n",
       "      <th>company_size</th>\n",
       "      <th>company_type</th>\n",
       "      <th>last_new_job</th>\n",
       "      <th>training_hours</th>\n",
       "      <th>target</th>\n",
       "    </tr>\n",
       "  </thead>\n",
       "  <tbody>\n",
       "    <tr>\n",
       "      <th>0</th>\n",
       "      <td>23798</td>\n",
       "      <td>city_149</td>\n",
       "      <td>0.689</td>\n",
       "      <td>Male</td>\n",
       "      <td>1</td>\n",
       "      <td>no_enrollment</td>\n",
       "      <td>Graduate</td>\n",
       "      <td>STEM</td>\n",
       "      <td>exp_level2</td>\n",
       "      <td>100-500</td>\n",
       "      <td>Pvt Ltd</td>\n",
       "      <td>1</td>\n",
       "      <td>4.663439</td>\n",
       "      <td>0.0</td>\n",
       "    </tr>\n",
       "    <tr>\n",
       "      <th>1</th>\n",
       "      <td>29166</td>\n",
       "      <td>city_83</td>\n",
       "      <td>0.923</td>\n",
       "      <td>Male</td>\n",
       "      <td>1</td>\n",
       "      <td>no_enrollment</td>\n",
       "      <td>Graduate</td>\n",
       "      <td>STEM</td>\n",
       "      <td>exp_level5</td>\n",
       "      <td>&lt;10</td>\n",
       "      <td>Funded Startup</td>\n",
       "      <td>1</td>\n",
       "      <td>4.234107</td>\n",
       "      <td>0.0</td>\n",
       "    </tr>\n",
       "    <tr>\n",
       "      <th>2</th>\n",
       "      <td>46</td>\n",
       "      <td>city_16</td>\n",
       "      <td>0.910</td>\n",
       "      <td>unknown</td>\n",
       "      <td>1</td>\n",
       "      <td>no_enrollment</td>\n",
       "      <td>Graduate</td>\n",
       "      <td>STEM</td>\n",
       "      <td>exp_level3</td>\n",
       "      <td>50-99</td>\n",
       "      <td>Public Sector</td>\n",
       "      <td>2</td>\n",
       "      <td>1.386294</td>\n",
       "      <td>0.0</td>\n",
       "    </tr>\n",
       "    <tr>\n",
       "      <th>3</th>\n",
       "      <td>18527</td>\n",
       "      <td>city_64</td>\n",
       "      <td>0.666</td>\n",
       "      <td>Male</td>\n",
       "      <td>1</td>\n",
       "      <td>no_enrollment</td>\n",
       "      <td>Graduate</td>\n",
       "      <td>STEM</td>\n",
       "      <td>exp_level5</td>\n",
       "      <td>50-99</td>\n",
       "      <td>Pvt Ltd</td>\n",
       "      <td>1</td>\n",
       "      <td>3.258097</td>\n",
       "      <td>0.0</td>\n",
       "    </tr>\n",
       "    <tr>\n",
       "      <th>4</th>\n",
       "      <td>21751</td>\n",
       "      <td>city_100</td>\n",
       "      <td>0.887</td>\n",
       "      <td>unknown</td>\n",
       "      <td>0</td>\n",
       "      <td>no_enrollment</td>\n",
       "      <td>Masters</td>\n",
       "      <td>STEM</td>\n",
       "      <td>exp_level3</td>\n",
       "      <td>unknown</td>\n",
       "      <td>unknown</td>\n",
       "      <td>2</td>\n",
       "      <td>4.477337</td>\n",
       "      <td>1.0</td>\n",
       "    </tr>\n",
       "  </tbody>\n",
       "</table>\n",
       "</div>"
      ],
      "text/plain": [
       "   enrollee_id      city  city_development_index   gender relevent_experience  \\\n",
       "0        23798  city_149                   0.689     Male                   1   \n",
       "1        29166   city_83                   0.923     Male                   1   \n",
       "2           46   city_16                   0.910  unknown                   1   \n",
       "3        18527   city_64                   0.666     Male                   1   \n",
       "4        21751  city_100                   0.887  unknown                   0   \n",
       "\n",
       "  enrolled_university education_level major_discipline  experience  \\\n",
       "0       no_enrollment        Graduate             STEM  exp_level2   \n",
       "1       no_enrollment        Graduate             STEM  exp_level5   \n",
       "2       no_enrollment        Graduate             STEM  exp_level3   \n",
       "3       no_enrollment        Graduate             STEM  exp_level5   \n",
       "4       no_enrollment         Masters             STEM  exp_level3   \n",
       "\n",
       "  company_size    company_type last_new_job  training_hours  target  \n",
       "0      100-500         Pvt Ltd            1        4.663439     0.0  \n",
       "1          <10  Funded Startup            1        4.234107     0.0  \n",
       "2        50-99   Public Sector            2        1.386294     0.0  \n",
       "3        50-99         Pvt Ltd            1        3.258097     0.0  \n",
       "4      unknown         unknown            2        4.477337     1.0  "
      ]
     },
     "execution_count": 155,
     "metadata": {},
     "output_type": "execute_result"
    }
   ],
   "source": [
    "whole.head()"
   ]
  },
  {
   "cell_type": "code",
   "execution_count": 154,
   "metadata": {},
   "outputs": [
    {
     "data": {
      "text/plain": [
       "array([4, 3, 2, 1, 0], dtype=int64)"
      ]
     },
     "execution_count": 154,
     "metadata": {},
     "output_type": "execute_result"
    }
   ],
   "source": [
    "from sklearn.preprocessing import LabelEncoder\n",
    "le = LabelEncoder()\n",
    "le.fit_transform(level)"
   ]
  },
  {
   "cell_type": "code",
   "execution_count": null,
   "metadata": {},
   "outputs": [],
   "source": []
  },
  {
   "cell_type": "code",
   "execution_count": null,
   "metadata": {},
   "outputs": [],
   "source": []
  }
 ],
 "metadata": {
  "kernelspec": {
   "display_name": "Python 3",
   "language": "python",
   "name": "python3"
  },
  "language_info": {
   "codemirror_mode": {
    "name": "ipython",
    "version": 3
   },
   "file_extension": ".py",
   "mimetype": "text/x-python",
   "name": "python",
   "nbconvert_exporter": "python",
   "pygments_lexer": "ipython3",
   "version": "3.7.6"
  }
 },
 "nbformat": 4,
 "nbformat_minor": 4
}
